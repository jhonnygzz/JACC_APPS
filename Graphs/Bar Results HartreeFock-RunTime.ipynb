{
 "cells": [
  {
   "cell_type": "code",
   "execution_count": 4,
   "id": "d5d69b01-1060-47b2-83ae-3c22ca0b67ee",
   "metadata": {},
   "outputs": [
    {
     "data": {
      "text/plain": [
       "\"C:\\\\Users\\\\alexi\\\\JuliaNotebooks\\\\hf_NVIDIA_performance.png\""
      ]
     },
     "execution_count": 4,
     "metadata": {},
     "output_type": "execute_result"
    }
   ],
   "source": [
    "using Plots\n",
    "\n",
    "# Data for A100\n",
    "x_labels_a100 = [\"Fortran\\nOpenMP\\n Offload\", \"JACC.jl\"]\n",
    "y_values_a100 = [410.20,7.94] # Average Runtime\n",
    "\n",
    "# Data for H100\n",
    "x_labels_h100 = [\"Fortran\\nOpenMP\\n Offload\", \"JACC.jl\"]\n",
    "y_values_h100 = [313.27,5.46] # Average Runtime (s), lower is better\n",
    "\n",
    "# Create both plots\n",
    "p1 = bar(x_labels_a100, y_values_a100, \n",
    "    ylabel=\"Average Runtime (s), lower is better\",\n",
    "    title=\"A100\",\n",
    "    legend=false,\n",
    "    bar_width=0.5,\n",
    "    widen=true, # Adds some extra space on both sides of the x-axis, making the bars appear more centered in the plot\n",
    "    xrotation=90, # for the x-labels\n",
    "    box=:box,\n",
    "    fillcolor=[:salmon, :purple])\n",
    "\n",
    "# Set y-limits for first plot\n",
    "ylims!(p1, 0, 500)\n",
    "\n",
    "# Add annotations for H100\n",
    "annotate!([(i - 0.5, y + 30, text(string(round(y, digits=2)), :black, 9, rotation=90)) \n",
    "           for (i, y) in enumerate(y_values_a100)]) \n",
    "# enumerate(y_values_a100) outputs:\n",
    "#(1, 2.978)\n",
    "#(2, 2.056)\n",
    "#(3, 4.841)\n",
    "#(4, 2.386)\n",
    "#(5, 3.004)\n",
    "#(6, 3.181)\n",
    "\n",
    "p2 = bar(x_labels_h100, y_values_h100, \n",
    "    #ylabel=\"TFLOP/s, higher is better\",\n",
    "    title=\"H100\",\n",
    "    legend=false,\n",
    "    bar_width=0.5,\n",
    "    widen=true, # Adds some extra space on both sides of the x-axis, making the bars appear more centered in the plot\n",
    "    xrotation=90, # for the x-labels\n",
    "    box=:box,\n",
    "    fillcolor=[:salmon, :purple])\n",
    "\n",
    "# Set y-limits for second plot (using same scale as H100 for better comparison)\n",
    "ylims!(p2, 0, 500)\n",
    "\n",
    "# Add annotations for A100\n",
    "annotate!([(i - 0.5, y + 40, text(string(round(y, digits=2)), :black, 9, rotation=90)) \n",
    "           for (i, y) in enumerate(y_values_h100)])\n",
    "\n",
    "# Combine plots side by side\n",
    "plot(p1, p2, layout=(1,2), size=(550,450))\n",
    "\n",
    "# Uncomment to save the plot\n",
    "\n",
    "savefig(\"hf_NVIDIA_performance.png\")"
   ]
  },
  {
   "cell_type": "code",
   "execution_count": 2,
   "id": "354cd844-f608-4440-a36d-24878576eb19",
   "metadata": {},
   "outputs": [
    {
     "data": {
      "text/plain": [
       "\"C:\\\\Users\\\\alexi\\\\JuliaNotebooks\\\\hf_CPU_performance.png\""
      ]
     },
     "execution_count": 2,
     "metadata": {},
     "output_type": "execute_result"
    }
   ],
   "source": [
    "# Data\n",
    "x_labels = [\"Fortran\\n OpenMP\", \"JuliaThreads\", \"JACC.jl\"]\n",
    "y_values = [20.291, 55.000, 66.1940] #Average Time (32 Threads)\n",
    "y_values2 =[10.515, 33.766, 41.234] #Average Time (64 Threads)\n",
    "y_values3 =[7.134, 17.340, 21.032] #Average Time (128 Threads)\n",
    "\n",
    "overall_max = maximum([maximum(y_values), maximum(y_values2), maximum(y_values3)])\n",
    "\n",
    "\n",
    "#Create bar plot with different colors\n",
    "p1 = bar(x_labels, y_values, \n",
    "    ylabel=\"Average Runtime (s), lower is better\",\n",
    "    title=\"\\n32 threads\",\n",
    "    legend=false,\n",
    "    bar_width=0.5,\n",
    "    widen=true,\n",
    "    box=:box,\n",
    "    #xtickfontsize=7,\n",
    "    xrotation=90, #Flip the x_labels vertically.\n",
    "    fillcolor=[:beige, :darkblue, :purple])  # Different color for each bar\n",
    "\n",
    "\n",
    "ylims!(p1, 0, overall_max * 1.2)  # Set y-limits for first plot\n",
    "annotate!([(i - 0.5, y + 5, text(string(round(y, digits=2)), :black, 9, rotation=90)) \n",
    "           for (i, y) in enumerate(y_values)])\n",
    "\n",
    "p2 = bar(x_labels, y_values2, \n",
    "    #ylabel=\"TFLOP/s, higher is better\",\n",
    "    title=\"\\n64 threads\",\n",
    "    legend=false,\n",
    "    bar_width=0.5,\n",
    "    widen=true,\n",
    "    xrotation=90,\n",
    "    box=:box,\n",
    "    #xtickfontsize=5,\n",
    "    fillcolor=[:beige, :darkblue, :purple])\n",
    "ylims!(p2, 0, overall_max * 1.2)  # Set y-limits for second plot\n",
    "annotate!([(i - 0.5, y + 5, text(string(round(y, digits=2)), :black, 9, rotation=90)) \n",
    "           for (i, y) in enumerate(y_values2)])\n",
    "\n",
    "p3 = bar(x_labels, y_values3, \n",
    "    #ylabel=\"TFLOP/s, higher is better\",\n",
    "    title=\"\\n128 threads\",\n",
    "    legend=false,\n",
    "    bar_width=0.5,\n",
    "    widen=true,\n",
    "    xrotation=90,\n",
    "    box=:box,\n",
    "    #xtickfontsize=7,\n",
    "    fillcolor=[:beige, :darkblue, :purple])\n",
    "ylims!(p3, 0, overall_max * 1.2)  # Set y-limits for third plot\n",
    "annotate!([(i - 0.5, y + 5, text(string(round(y, digits=2)), :black, 9, rotation=90)) \n",
    "           for (i, y) in enumerate(y_values3)])\n",
    "\n",
    "plot(p1, p2, p3, plot_title=\"AMD EPYC 7702 64-Core (2 Sockets)\", layout=(1,3), size=(550,500))\n",
    "savefig(\"hf_CPU_performance.png\")  # Save as PNG"
   ]
  },
  {
   "cell_type": "code",
   "execution_count": null,
   "id": "f5061ba5-42f4-456f-a0a2-75392614ce1f",
   "metadata": {},
   "outputs": [],
   "source": []
  }
 ],
 "metadata": {
  "kernelspec": {
   "display_name": "Julia 1.10.4",
   "language": "julia",
   "name": "julia-1.10"
  },
  "language_info": {
   "file_extension": ".jl",
   "mimetype": "application/julia",
   "name": "julia",
   "version": "1.10.4"
  }
 },
 "nbformat": 4,
 "nbformat_minor": 5
}
