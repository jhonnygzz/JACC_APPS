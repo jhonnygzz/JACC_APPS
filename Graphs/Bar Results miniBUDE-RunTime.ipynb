{
 "cells": [
  {
   "cell_type": "code",
   "execution_count": 1,
   "id": "d5d69b01-1060-47b2-83ae-3c22ca0b67ee",
   "metadata": {},
   "outputs": [
    {
     "data": {
      "text/plain": [
       "\"C:\\\\Users\\\\alexi\\\\JuliaNotebooks\\\\bude_NVIDIA_performance.png\""
      ]
     },
     "execution_count": 1,
     "metadata": {},
     "output_type": "execute_result"
    }
   ],
   "source": [
    "using Plots\n",
    "\n",
    "# Data for A100\n",
    "x_labels_a100 = [\"CUDA\", \"OpenCL\", \"Kokkos\", \"CUDA.jl\", \"JACC.jl\", \"KA.jl\"]\n",
    "y_values_a100 = [2.978,2.056,4.841,2.386,3.004,3.181] # Average Runtime\n",
    "\n",
    "# Data for H100\n",
    "x_labels_h100 = [\"CUDA\", \"OpenCL\", \"Kokkos\", \"CUDA.jl\", \"JACC.jl\"]\n",
    "y_values_h100 = [1.757,1.100,3.065,1.531,1.606] # Average Runtime (s), lower is better\n",
    "\n",
    "# Create both plots\n",
    "p1 = bar(x_labels_a100, y_values_a100, \n",
    "    ylabel=\"Average Runtime (s), lower is better\",\n",
    "    title=\"A100\",\n",
    "    legend=false,\n",
    "    bar_width=0.5,\n",
    "    widen=true, # Adds some extra space on both sides of the x-axis, making the bars appear more centered in the plot\n",
    "    xrotation=90, # for the x-labels\n",
    "    box=:box,\n",
    "    fillcolor=[:lightgreen, :gray, :lightblue, :darkgreen, :purple, :yellow])\n",
    "\n",
    "# Set y-limits for first plot\n",
    "ylims!(p1, 0, 10)\n",
    "\n",
    "# Add annotations for H100\n",
    "annotate!([(i - 0.5, y + 0.5, text(string(round(y, digits=2)), :black, 9, rotation=90)) \n",
    "           for (i, y) in enumerate(y_values_a100)]) \n",
    "# enumerate(y_values_a100) outputs:\n",
    "#(1, 2.978)\n",
    "#(2, 2.056)\n",
    "#(3, 4.841)\n",
    "#(4, 2.386)\n",
    "#(5, 3.004)\n",
    "#(6, 3.181)\n",
    "\n",
    "p2 = bar(x_labels_h100, y_values_h100, \n",
    "    #ylabel=\"TFLOP/s, higher is better\",\n",
    "    title=\"H100\",\n",
    "    legend=false,\n",
    "    bar_width=0.5,\n",
    "    widen=true, # Adds some extra space on both sides of the x-axis, making the bars appear more centered in the plot\n",
    "    xrotation=90, # for the x-labels\n",
    "    box=:box,\n",
    "    fillcolor=[:lightgreen, :gray, :lightblue, :darkgreen, :purple])\n",
    "\n",
    "# Set y-limits for second plot (using same scale as H100 for better comparison)\n",
    "ylims!(p2, 0, 10)\n",
    "\n",
    "# Add annotations for A100\n",
    "annotate!([(i - 0.5, y + 0.5, text(string(round(y, digits=2)), :black, 9, rotation=90)) \n",
    "           for (i, y) in enumerate(y_values_h100)])\n",
    "\n",
    "# Combine plots side by side\n",
    "plot(p1, p2, layout=(1,2), size=(550,450))\n",
    "\n",
    "# Uncomment to save the plot\n",
    "savefig(\"bude_NVIDIA_performance.png\")"
   ]
  },
  {
   "cell_type": "code",
   "execution_count": 2,
   "id": "fb16f2d9-9dcd-4bd8-822c-6fbdca4cc0c3",
   "metadata": {},
   "outputs": [
    {
     "data": {
      "text/plain": [
       "\"C:\\\\Users\\\\alexi\\\\JuliaNotebooks\\\\bude_AMD_performance.png\""
      ]
     },
     "execution_count": 2,
     "metadata": {},
     "output_type": "execute_result"
    }
   ],
   "source": [
    "using Plots\n",
    "\n",
    "# Data for MI100\n",
    "x_labels_MI100 = [\"HIP\", \"OpenCL\", \"Kokkos\", \"AMDGPU.jl\", \"JACC.jl\", \"KA.jl\"]\n",
    "y_values_MI100 = [5.085,3.461,7.655,4.171,4.388,4.938] # Average Runtime\n",
    "\n",
    "# Data for MI250X\n",
    "x_labels_MI250X = [\"HIP\", \"OpenCL\", \"Kokkos\", \"AMDGPU.jl\", \"JACC.jl\"]\n",
    "y_values_MI250X = [3.445,3.372,5.989,3.822,3.981] # Average Runtime (s), lower is better\n",
    "\n",
    "# Create both plots\n",
    "p1 = bar(x_labels_MI100, y_values_MI100, \n",
    "    ylabel=\"Average Runtime (s), lower is better\",\n",
    "    title=\"MI100\",\n",
    "    legend=false,\n",
    "    bar_width=0.5,\n",
    "    widen=true,\n",
    "    xrotation=90,\n",
    "    box=:box,\n",
    "    fillcolor=[:pink, :gray, :lightblue, :olive, :purple, :yellow])\n",
    "\n",
    "# Set y-limits for first plot\n",
    "ylims!(p1, 0, 10)\n",
    "\n",
    "# Add annotations for H100\n",
    "annotate!([(i - 0.5, y + 0.5, text(string(round(y, digits=2)), :black, 9, rotation=90)) \n",
    "           for (i, y) in enumerate(y_values_MI100)])\n",
    "\n",
    "p2 = bar(x_labels_MI250X, y_values_MI250X, \n",
    "    #ylabel=\"TFLOP/s, higher is better\",\n",
    "    title=\"MI250X\",\n",
    "    legend=false,\n",
    "    bar_width=0.5,\n",
    "    widen=true,\n",
    "    xrotation=90,\n",
    "    box=:box,\n",
    "    fillcolor=[:pink, :gray, :lightblue, :olive, :purple])\n",
    "\n",
    "# Set y-limits for second plot (using same scale as H100 for better comparison)\n",
    "ylims!(p2, 0, 10)\n",
    "\n",
    "# Add annotations for A100\n",
    "annotate!([(i - 0.5, y + 0.5, text(string(round(y, digits=2)), :black, 9, rotation=90)) \n",
    "           for (i, y) in enumerate(y_values_MI250X)])\n",
    "\n",
    "# Combine plots side by side\n",
    "plot(p1, p2, layout=(1,2), size=(550,450))\n",
    "\n",
    "# Uncomment to save the plot\n",
    "savefig(\"bude_AMD_performance.png\")"
   ]
  },
  {
   "cell_type": "code",
   "execution_count": 3,
   "id": "aa07c207-5c94-4d74-8efa-dd4bade53862",
   "metadata": {},
   "outputs": [
    {
     "data": {
      "text/plain": [
       "\"C:\\\\Users\\\\alexi\\\\JuliaNotebooks\\\\bude_INTEL_performance.png\""
      ]
     },
     "execution_count": 3,
     "metadata": {},
     "output_type": "execute_result"
    }
   ],
   "source": [
    "# Data\n",
    "x_labels = [\"SYCL\", \"OpenCL\", \"oneAPI.jl\", \"JACC.jl\"]\n",
    "y_values = [2.706,2.318,3.449,4.448] #Average Time in 10 Runs\n",
    "\n",
    "#Create bar plot with different colors\n",
    "p1 = bar(x_labels, y_values, \n",
    "    ylabel=\"Average Runtime (s), lower is better\",\n",
    "    legend=false,\n",
    "    bar_width=0.5,\n",
    "    widen=true,\n",
    "    box=:box,\n",
    "    xrotation=90, #Flip the x_labels vertically.\n",
    "    fillcolor=[:orange, :gray, :orchid, :purple])  # Different color for each bar\n",
    "\n",
    "ylims!(p1, 0, 10)  # Set y-limits for first plot\n",
    "\n",
    "# p2 = bar(x_labels, y_values2, \n",
    "#     ylabel=\"Avg. Runtime (s), lower is better\",\n",
    "#     #title=\"Arc A770\\nAnalysed data range\",\n",
    "#     legend=false,\n",
    "#     bar_width=0.5,\n",
    "#     widen=true,\n",
    "#     xrotation=90,\n",
    "#     #xtickfontsize=7,\n",
    "#     fillcolor=[:orange, :red, :purple, :gray])\n",
    "# ylims!(p2, 0, 6.247 * 1.2)  # Set y-limits for second plot\n",
    "\n",
    "# Add annotations on top of each bar\n",
    "annotate!([(i - 0.5, y + 0.5, text(string(round(y, digits=2)), :black, 9, rotation=90)) \n",
    "           for (i, y) in enumerate(y_values)])\n",
    "\n",
    "#plot(p1, p2, plot_title=\"Arc A770\", layout=(1,2), size=(600,450))\n",
    "plot(p1, plot_title=\"Arc A770\", size=(400,450))\n",
    "savefig(\"bude_INTEL_performance.png\")  # Save as PNG"
   ]
  },
  {
   "cell_type": "code",
   "execution_count": 4,
   "id": "354cd844-f608-4440-a36d-24878576eb19",
   "metadata": {},
   "outputs": [
    {
     "data": {
      "text/plain": [
       "\"C:\\\\Users\\\\alexi\\\\JuliaNotebooks\\\\bude_CPU_performance.png\""
      ]
     },
     "execution_count": 4,
     "metadata": {},
     "output_type": "execute_result"
    }
   ],
   "source": [
    "# Data\n",
    "x_labels = [\"OpenMP\", \"Kokkos\", \"JuliaThreads\", \"JACC.jl\", \"KA.jl\",]\n",
    "y_values = [13.775, 13.863, 15.475, 18.133, 20.401] #Average Time (32 Threads)\n",
    "y_values2 =[7.263, 7.252, 9.570, 11.441, 12.602] #Average Time (64 Threads)\n",
    "y_values3 =[4.708, 4.542, 4.817, 5.784, 6.392] #Average Time (128 Threads)\n",
    "\n",
    "overall_max = maximum([maximum(y_values), maximum(y_values2), maximum(y_values3)])\n",
    "\n",
    "\n",
    "#Create bar plot with different colors\n",
    "p1 = bar(x_labels, y_values, \n",
    "    ylabel=\"Average Runtime (s), lower is better\",\n",
    "    title=\"\\n32 threads\",\n",
    "    legend=false,\n",
    "    bar_width=0.5,\n",
    "    widen=true,\n",
    "    box=:box,\n",
    "    #xtickfontsize=7,\n",
    "    xrotation=90, #Flip the x_labels vertically.\n",
    "    fillcolor=[:cyan, :lightblue, :darkblue, :purple, :yellow])  # Different color for each bar\n",
    "\n",
    "\n",
    "ylims!(p1, 0, overall_max * 1.2)  # Set y-limits for first plot\n",
    "annotate!([(i - 0.5, y + 1.4, text(string(round(y, digits=2)), :black, 9, rotation=90)) \n",
    "           for (i, y) in enumerate(y_values)])\n",
    "\n",
    "p2 = bar(x_labels, y_values2, \n",
    "    #ylabel=\"TFLOP/s, higher is better\",\n",
    "    title=\"\\n64 threads\",\n",
    "    legend=false,\n",
    "    bar_width=0.5,\n",
    "    widen=true,\n",
    "    xrotation=90,\n",
    "    box=:box,\n",
    "    #xtickfontsize=5,\n",
    "    fillcolor=[:cyan, :lightblue, :darkblue, :purple, :yellow])\n",
    "ylims!(p2, 0, overall_max * 1.2)  # Set y-limits for second plot\n",
    "annotate!([(i - 0.5, y + 1.4, text(string(round(y, digits=2)), :black, 9, rotation=90)) \n",
    "           for (i, y) in enumerate(y_values2)])\n",
    "\n",
    "p3 = bar(x_labels, y_values3, \n",
    "    #ylabel=\"TFLOP/s, higher is better\",\n",
    "    title=\"\\n128 threads\",\n",
    "    legend=false,\n",
    "    bar_width=0.5,\n",
    "    widen=true,\n",
    "    xrotation=90,\n",
    "    box=:box,\n",
    "    #xtickfontsize=7,\n",
    "    fillcolor=[:cyan, :lightblue, :darkblue, :purple, :yellow])\n",
    "ylims!(p3, 0, overall_max * 1.2)  # Set y-limits for third plot\n",
    "annotate!([(i - 0.5, y + 1.4, text(string(round(y, digits=2)), :black, 9, rotation=90)) \n",
    "           for (i, y) in enumerate(y_values3)])\n",
    "\n",
    "plot(p1, p2, p3, plot_title=\"AMD EPYC 7702 64-Core (2 Sockets)\", layout=(1,3), size=(600,500))\n",
    "savefig(\"bude_CPU_performance.png\")  # Save as PNG"
   ]
  },
  {
   "cell_type": "code",
   "execution_count": null,
   "id": "f5061ba5-42f4-456f-a0a2-75392614ce1f",
   "metadata": {},
   "outputs": [],
   "source": []
  }
 ],
 "metadata": {
  "kernelspec": {
   "display_name": "Julia 1.10.4",
   "language": "julia",
   "name": "julia-1.10"
  },
  "language_info": {
   "file_extension": ".jl",
   "mimetype": "application/julia",
   "name": "julia",
   "version": "1.10.4"
  }
 },
 "nbformat": 4,
 "nbformat_minor": 5
}
